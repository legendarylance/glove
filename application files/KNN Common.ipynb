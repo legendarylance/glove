{
 "cells": [
  {
   "cell_type": "code",
   "execution_count": 2,
   "metadata": {},
   "outputs": [],
   "source": [
    "with open('vectors.txt', 'r') as content_file:\n",
    "    content = content_file.read()"
   ]
  },
  {
   "cell_type": "code",
   "execution_count": 1,
   "metadata": {},
   "outputs": [],
   "source": [
    "import argparse\n",
    "import numpy as np\n",
    "import sys"
   ]
  },
  {
   "cell_type": "code",
   "execution_count": 8,
   "metadata": {},
   "outputs": [],
   "source": [
    "import urllib2"
   ]
  },
  {
   "cell_type": "code",
   "execution_count": 2,
   "metadata": {},
   "outputs": [],
   "source": [
    "import pickle\n",
    "with open('np_array.pkl', 'rb') as file:\n",
    "    np_array = pickle.load(file)"
   ]
  },
  {
   "cell_type": "code",
   "execution_count": 3,
   "metadata": {},
   "outputs": [],
   "source": [
    "with open('names.pkl', 'rb') as file:\n",
    "    names = pickle.load(file)"
   ]
  },
  {
   "cell_type": "code",
   "execution_count": 4,
   "metadata": {},
   "outputs": [],
   "source": [
    "from sklearn.neighbors import NearestNeighbors"
   ]
  },
  {
   "cell_type": "code",
   "execution_count": 5,
   "metadata": {},
   "outputs": [
    {
     "data": {
      "text/plain": [
       "NearestNeighbors(algorithm='auto', leaf_size=30, metric='cosine',\n",
       "         metric_params=None, n_jobs=1, n_neighbors=5, p=2, radius=1.0)"
      ]
     },
     "execution_count": 5,
     "metadata": {},
     "output_type": "execute_result"
    }
   ],
   "source": [
    "neigh = NearestNeighbors(n_neighbors=5, metric = 'cosine')\n",
    "neigh.fit(np_array)"
   ]
  },
  {
   "cell_type": "code",
   "execution_count": 7,
   "metadata": {},
   "outputs": [],
   "source": [
    "def getSyns(word):\n",
    "    ind = names.index(word)\n",
    "    neib = neigh.kneighbors(np_array[ind].reshape(1, -1))\n",
    "    words = []\n",
    "    for i in neib[1][0]:\n",
    "        words.append(names[i])\n",
    "    return words"
   ]
  },
  {
   "cell_type": "code",
   "execution_count": 12,
   "metadata": {},
   "outputs": [],
   "source": [
    "def handler(my_word):\n",
    "    \n",
    "    neigh = NearestNeighbors(n_neighbors=5, metric = 'cosine')\n",
    "    neigh.fit(np_array)\n",
    "\n",
    "    #Info\n",
    "    #my_word = float(event.get('my_word')['array'])\n",
    "    ind = names.index(my_word)\n",
    "    neib = neigh.kneighbors(np_array[ind].reshape(1, -1))\n",
    "    \n",
    "    answer = []\n",
    "    for i in neib[1][0]:\n",
    "        answer.append(names[i])\n",
    "    \n",
    "    return answer"
   ]
  },
  {
   "cell_type": "code",
   "execution_count": 16,
   "metadata": {},
   "outputs": [
    {
     "name": "stdout",
     "output_type": "stream",
     "text": [
      "400000\n"
     ]
    }
   ],
   "source": [
    "print len(names)"
   ]
  },
  {
   "cell_type": "code",
   "execution_count": null,
   "metadata": {},
   "outputs": [],
   "source": [
    "import boto3\n",
    "import os\n",
    "import ctypes\n",
    "import uuid\n",
    "import sklearn\n",
    "import pickle\n",
    "import numpy as np\n",
    "\n",
    "for d, _, files in os.walk('lib'):\n",
    "    for f in files:\n",
    "        if f.endswith('.a'):\n",
    "            continue\n",
    "        ctypes.cdll.LoadLibrary(os.path.join(d, f))\n",
    "\n",
    "s3_client = boto3.client('s3')\n",
    "\n",
    "#load model\n",
    "bucket = 'azclassifier'\n",
    "key = 'model.pckl'\n",
    "download_path = '/tmp/{}{}'.format(uuid.uuid4(), key)\n",
    "s3_client.download_file(bucket, key, download_path)\n",
    "\n",
    "f = open(download_path, 'rb')\n",
    "model = pickle.load(f)\n",
    "f.close()\n",
    "\n",
    "def handler(event, context):\n",
    "\n",
    "    #Info\n",
    "    sepal_length = float(event.get('Iris')['sepal_length'])\n",
    "    sepal_width = float(event.get('Iris')['sepal_width'])\n",
    "    petal_length = float(event.get('Iris')['petal_length'])\n",
    "    petal_width = float(event.get('Iris')['petal_width'])\n",
    "    \n",
    "    #Row\n",
    "    row_arti = np.array([sepal_length,sepal_width,petal_length,petal_width]).reshape(1,4)\n",
    "\n",
    "    \n",
    "    \n",
    "    #Predict\n",
    "    class_prediced = int(model.predict(row_arti)[0])\n",
    "    \n",
    "    return class_prediced"
   ]
  },
  {
   "cell_type": "code",
   "execution_count": null,
   "metadata": {},
   "outputs": [],
   "source": []
  },
  {
   "cell_type": "code",
   "execution_count": 12,
   "metadata": {},
   "outputs": [],
   "source": [
    "with open('glove.6B.50d.txt', 'r') as f:\n",
    "    vectors = {}\n",
    "    for line in f:\n",
    "        vals = line.rstrip().split(' ')\n",
    "        vectors[vals[0]] = [float(x) for x in vals[1:]]"
   ]
  },
  {
   "cell_type": "code",
   "execution_count": 13,
   "metadata": {},
   "outputs": [],
   "source": [
    "np_array = np.array(vectors.values())\n",
    "names = []\n",
    "for key in vectors.keys():\n",
    "    names.append(key)"
   ]
  },
  {
   "cell_type": "code",
   "execution_count": 15,
   "metadata": {},
   "outputs": [],
   "source": [
    "import pickle"
   ]
  },
  {
   "cell_type": "code",
   "execution_count": 20,
   "metadata": {},
   "outputs": [],
   "source": [
    "with open('np_array.pkl', 'wb') as file:\n",
    "    pickle.dump(np_array, file)"
   ]
  },
  {
   "cell_type": "code",
   "execution_count": 19,
   "metadata": {},
   "outputs": [],
   "source": [
    "with open('names.pkl', 'wb') as file:\n",
    "    pickle.dump(names, file)"
   ]
  },
  {
   "cell_type": "code",
   "execution_count": 17,
   "metadata": {},
   "outputs": [],
   "source": [
    "with open('KNN.pkl', 'wb') as file:\n",
    "    pickle.dump(neigh, file)"
   ]
  },
  {
   "cell_type": "code",
   "execution_count": 21,
   "metadata": {},
   "outputs": [],
   "source": [
    "from sklearn.externals import joblib"
   ]
  },
  {
   "cell_type": "code",
   "execution_count": 22,
   "metadata": {},
   "outputs": [
    {
     "data": {
      "text/plain": [
       "['KNN_joblib.pkl']"
      ]
     },
     "execution_count": 22,
     "metadata": {},
     "output_type": "execute_result"
    }
   ],
   "source": [
    "joblib.dump(neigh, 'KNN_joblib.pkl')"
   ]
  },
  {
   "cell_type": "code",
   "execution_count": 16,
   "metadata": {},
   "outputs": [],
   "source": [
    "s = pickle.dumps(neigh)"
   ]
  },
  {
   "cell_type": "code",
   "execution_count": 23,
   "metadata": {},
   "outputs": [],
   "source": [
    "import json\n",
    "with open('vectors.json', 'w') as fp:\n",
    "    json.dump(vectors, fp)"
   ]
  },
  {
   "cell_type": "code",
   "execution_count": 83,
   "metadata": {},
   "outputs": [],
   "source": [
    "# with open('vocab.txt', 'r') as f:\n",
    "#         words2 = [x.rstrip().split(' ') for x in f.readlines()]"
   ]
  },
  {
   "cell_type": "code",
   "execution_count": 16,
   "metadata": {},
   "outputs": [],
   "source": [
    "# ind = names.index(\"mathematics\")\n",
    "# neib = neigh.kneighbors(np_array[ind].reshape(1, -1))\n",
    "# for i in neib[1][0]:\n",
    "#     print names[i]"
   ]
  },
  {
   "cell_type": "code",
   "execution_count": 14,
   "metadata": {},
   "outputs": [],
   "source": [
    "def getSyns(word):\n",
    "    ind = names.index(word)\n",
    "    neib = neigh.kneighbors(np_array[ind].reshape(1, -1))\n",
    "    for i in neib[1][0]:\n",
    "        print names[i]"
   ]
  },
  {
   "cell_type": "code",
   "execution_count": null,
   "metadata": {},
   "outputs": [],
   "source": []
  },
  {
   "cell_type": "code",
   "execution_count": null,
   "metadata": {},
   "outputs": [],
   "source": []
  },
  {
   "cell_type": "code",
   "execution_count": null,
   "metadata": {},
   "outputs": [],
   "source": []
  },
  {
   "cell_type": "code",
   "execution_count": null,
   "metadata": {},
   "outputs": [],
   "source": []
  },
  {
   "cell_type": "code",
   "execution_count": null,
   "metadata": {},
   "outputs": [],
   "source": []
  },
  {
   "cell_type": "code",
   "execution_count": 19,
   "metadata": {},
   "outputs": [
    {
     "data": {
      "text/plain": [
       "['gravity', 'velocity', 'gravitational', 'magnetic', 'quantum']"
      ]
     },
     "execution_count": 19,
     "metadata": {},
     "output_type": "execute_result"
    }
   ],
   "source": [
    "getSyns('gravity')"
   ]
  }
 ],
 "metadata": {
  "kernelspec": {
   "display_name": "Python 2",
   "language": "python",
   "name": "python2"
  },
  "language_info": {
   "codemirror_mode": {
    "name": "ipython",
    "version": 2
   },
   "file_extension": ".py",
   "mimetype": "text/x-python",
   "name": "python",
   "nbconvert_exporter": "python",
   "pygments_lexer": "ipython2",
   "version": "2.7.14"
  }
 },
 "nbformat": 4,
 "nbformat_minor": 2
}
