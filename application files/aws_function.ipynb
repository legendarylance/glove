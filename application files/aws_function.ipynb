{
 "cells": [
  {
   "cell_type": "code",
   "execution_count": null,
   "metadata": {},
   "outputs": [],
   "source": [
    "import boto3\n",
    "import os\n",
    "import ctypes\n",
    "import uuid\n",
    "from sklearn.neighbors import NearestNeighbors\n",
    "import pickle\n",
    "import numpy as np\n",
    "\n",
    "for d, _, files in os.walk('lib'):\n",
    "    for f in files:\n",
    "        if f.endswith('.a'):\n",
    "            continue\n",
    "        ctypes.cdll.LoadLibrary(os.path.join(d, f))\n",
    "\n",
    "s3_client = boto3.client('s3')\n",
    "\n",
    "#load names\n",
    "bucket = 'azclassifier'\n",
    "key = 'names.pkl'\n",
    "download_path = '/tmp/{}{}'.format(uuid.uuid4(), key)\n",
    "s3_client.download_file(bucket, key, download_path)\n",
    "\n",
    "f = open(download_path, 'rb')\n",
    "names = pickle.load(f)\n",
    "f.close()\n",
    "\n",
    "#load array\n",
    "bucket = 'azclassifier'\n",
    "key = 'np_array.pkl'\n",
    "download_path = '/tmp/{}{}'.format(uuid.uuid4(), key)\n",
    "s3_client.download_file(bucket, key, download_path)\n",
    "\n",
    "f = open(download_path, 'rb')\n",
    "np_array = pickle.load(f)\n",
    "f.close()\n",
    "\n",
    "neigh = NearestNeighbors(n_neighbors=5, metric = 'cosine')\n",
    "neigh.fit(np_array)\n",
    "\n",
    "def handler(event, context):\n",
    "    \n",
    "    #Info\n",
    "    my_word = float(event.get('my_word')['array'])\n",
    "    ind = names.index(my_word)\n",
    "    neib = neigh.kneighbors(np_array[ind].reshape(1, -1))\n",
    "    \n",
    "    answer = []\n",
    "    for i in neib[1][0]:\n",
    "        answer.append(names[i])\n",
    "    \n",
    "    return answer"
   ]
  }
 ],
 "metadata": {
  "kernelspec": {
   "display_name": "Python 2",
   "language": "python",
   "name": "python2"
  },
  "language_info": {
   "codemirror_mode": {
    "name": "ipython",
    "version": 2
   },
   "file_extension": ".py",
   "mimetype": "text/x-python",
   "name": "python",
   "nbconvert_exporter": "python",
   "pygments_lexer": "ipython2",
   "version": "2.7.14"
  }
 },
 "nbformat": 4,
 "nbformat_minor": 2
}
