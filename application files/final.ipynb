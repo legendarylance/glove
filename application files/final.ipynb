{
 "cells": [
  {
   "cell_type": "code",
   "execution_count": 1,
   "metadata": {},
   "outputs": [],
   "source": [
    "import sys   \n",
    "files = ['cleaned_books', 'cleaned_papers', 'cleaned_transctipts']"
   ]
  },
  {
   "cell_type": "code",
   "execution_count": 2,
   "metadata": {},
   "outputs": [],
   "source": [
    "master = ''\n",
    "for i in files:\n",
    "    with open(i, 'r') as content_file:\n",
    "        content = content_file.read()\n",
    "    master = master + content"
   ]
  },
  {
   "cell_type": "code",
   "execution_count": 3,
   "metadata": {},
   "outputs": [],
   "source": [
    "file = open(\"text8\",\"w\")\n",
    "file.write(master)\n",
    "file.close()"
   ]
  }
 ],
 "metadata": {
  "kernelspec": {
   "display_name": "Python 2",
   "language": "python",
   "name": "python2"
  }
 },
 "nbformat": 4,
 "nbformat_minor": 2
}
