{
 "cells": [
  {
   "cell_type": "code",
   "execution_count": 1,
   "metadata": {},
   "outputs": [],
   "source": [
    "import pandas as pd\n",
    "import numpy as np\n",
    "import time"
   ]
  },
  {
   "cell_type": "code",
   "execution_count": 9,
   "metadata": {},
   "outputs": [],
   "source": [
    "import re"
   ]
  },
  {
   "cell_type": "code",
   "execution_count": 2,
   "metadata": {},
   "outputs": [],
   "source": [
    "import MySQLdb as db\n",
    "\n",
    "HOST = \"gator4264.hostgator.com\"\n",
    "PORT = 3306\n",
    "USER = \"ayazhan_glove\"\n",
    "PASSWORD = \"glove\"\n",
    "DB = \"ayazhan_glove2\""
   ]
  },
  {
   "cell_type": "code",
   "execution_count": 3,
   "metadata": {},
   "outputs": [],
   "source": [
    "df = pd.read_csv('master_0.csv')\n",
    "df1 = pd.read_csv('master_1.csv')\n",
    "df2 = pd.read_csv('master_2.csv')\n",
    "df3 = pd.read_csv('master_3.csv')\n",
    "df4 = pd.read_csv('master_4.csv')\n",
    "df5 = pd.read_csv('master_5.csv')\n",
    "df6 = pd.read_csv('master_6.csv')\n",
    "df7 = pd.read_csv('master_7.csv')\n",
    "df8 = pd.read_csv('master_8.csv')\n",
    "df9 = pd.read_csv('master_9.csv')"
   ]
  },
  {
   "cell_type": "code",
   "execution_count": 4,
   "metadata": {},
   "outputs": [
    {
     "data": {
      "text/plain": [
       "9846"
      ]
     },
     "execution_count": 4,
     "metadata": {},
     "output_type": "execute_result"
    }
   ],
   "source": [
    "df = pd.concat([df, df1])\n",
    "df = pd.concat([df, df2])\n",
    "df = pd.concat([df, df3])\n",
    "df = pd.concat([df, df4])\n",
    "df = pd.concat([df, df5])\n",
    "df = pd.concat([df, df6])\n",
    "df = pd.concat([df, df7])\n",
    "df = pd.concat([df, df8])\n",
    "df = pd.concat([df, df9])\n",
    "len(df)"
   ]
  },
  {
   "cell_type": "code",
   "execution_count": 5,
   "metadata": {
    "scrolled": true
   },
   "outputs": [
    {
     "data": {
      "text/plain": [
       "9846"
      ]
     },
     "execution_count": 5,
     "metadata": {},
     "output_type": "execute_result"
    }
   ],
   "source": [
    "df = df.drop_duplicates(subset=['0'], keep=False)\n",
    "len(df)"
   ]
  },
  {
   "cell_type": "code",
   "execution_count": 6,
   "metadata": {},
   "outputs": [],
   "source": [
    "del df1\n",
    "del df2\n",
    "del df3\n",
    "del df4\n",
    "del df5\n",
    "del df6\n",
    "del df7\n",
    "del df8\n",
    "del df9"
   ]
  },
  {
   "cell_type": "code",
   "execution_count": 48,
   "metadata": {},
   "outputs": [
    {
     "name": "stdout",
     "output_type": "stream",
     "text": [
      "91.745000124\n",
      "90.9990000725\n",
      "92.1719999313\n",
      "90.9360001087\n"
     ]
    }
   ],
   "source": [
    "for j in range(5,9):\n",
    "    start = time.time()\n",
    "    try:\n",
    "        connection = db.Connection(host=HOST, port=PORT,\n",
    "                                   user=USER, passwd=PASSWORD, db=DB)\n",
    "        dbhandler = connection.cursor()\n",
    "        for index, row in df[(j-1)*1000:j*1000].iterrows():\n",
    "            dbhandler.execute(\"INSERT INTO `glove`(`w1`, `w2`, `w3`, `w4`, `w5`) VALUES ('%s','%s','%s','%s','%s')\"%(re.escape(row['0']), re.escape(row['1']), re.escape(row['2']), re.escape(row['3']), re.escape(row['4'])))\n",
    "    finally:\n",
    "        connection.close()\n",
    "    end = time.time()\n",
    "    print(end - start)"
   ]
  },
  {
   "cell_type": "code",
   "execution_count": 51,
   "metadata": {},
   "outputs": [
    {
     "name": "stdout",
     "output_type": "stream",
     "text": [
      "3552\n"
     ]
    }
   ],
   "source": [
    "# df.iloc[df['0']=='heigh']\n",
    "count = 0\n",
    "for i in df['0']:\n",
    "    count += 1\n",
    "    if i == \"apartment\":\n",
    "        print count"
   ]
  },
  {
   "cell_type": "code",
   "execution_count": 56,
   "metadata": {},
   "outputs": [
    {
     "name": "stdout",
     "output_type": "stream",
     "text": [
      "169.689999819\n"
     ]
    }
   ],
   "source": [
    "start = time.time()\n",
    "try:\n",
    "    connection = db.Connection(host=HOST, port=PORT,\n",
    "                               user=USER, passwd=PASSWORD, db=DB)\n",
    "    dbhandler = connection.cursor()\n",
    "    for index, row in df[8000:9836].iterrows():\n",
    "        dbhandler.execute(\"INSERT INTO `glove`(`w1`, `w2`, `w3`, `w4`, `w5`) VALUES ('%s','%s','%s','%s','%s')\"%(re.escape(row['0']), re.escape(row['1']), re.escape(row['2']), re.escape(row['3']), re.escape(row['4'])))\n",
    "finally:\n",
    "    connection.close()\n",
    "end = time.time()\n",
    "print(end - start)"
   ]
  },
  {
   "cell_type": "code",
   "execution_count": 55,
   "metadata": {},
   "outputs": [
    {
     "name": "stdout",
     "output_type": "stream",
     "text": [
      "9836\n"
     ]
    }
   ],
   "source": [
    "# df.iloc[3553]\n",
    "# print len(df)\n",
    "# df = df.drop([3555])\n",
    "# print len(df)\n",
    "# df = df.drop(df.index[apa])\n",
    "print len(df)"
   ]
  }
 ],
 "metadata": {
  "kernelspec": {
   "display_name": "Python 2",
   "language": "python",
   "name": "python2"
  },
  "language_info": {
   "codemirror_mode": {
    "name": "ipython",
    "version": 2
   },
   "file_extension": ".py",
   "mimetype": "text/x-python",
   "name": "python",
   "nbconvert_exporter": "python",
   "pygments_lexer": "ipython2",
   "version": "2.7.14"
  }
 },
 "nbformat": 4,
 "nbformat_minor": 2
}
