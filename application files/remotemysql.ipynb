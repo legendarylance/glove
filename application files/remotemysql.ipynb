{
 "cells": [
  {
   "cell_type": "code",
   "execution_count": 6,
   "metadata": {},
   "outputs": [],
   "source": [
    "#!/usr/bin/env python\n",
    "# -*- coding: utf-8 -*-\n",
    "\n",
    "############################################################\n",
    "#                                                          #\n",
    "# Simple script to connect to a remote mysql database      #\n",
    "#                                                          #\n",
    "#                                                          #\n",
    "# Install MySQLdb package by running:                      #\n",
    "#                                                          #\n",
    "#                       pip install MySQL-python           #\n",
    "#                                                          #\n",
    "############################################################\n",
    "\n",
    "\n",
    "import MySQLdb as db\n",
    "\n",
    "HOST = \"gator4264.hostgator.com\"\n",
    "PORT = 3306\n",
    "USER = \"ayazhan_glove\"\n",
    "PASSWORD = \"glove\"\n",
    "DB = \"ayazhan_glove\"\n",
    "\n",
    "try:\n",
    "    connection = db.Connection(host=HOST, port=PORT,\n",
    "                               user=USER, passwd=PASSWORD, db=DB)\n",
    "\n",
    "    dbhandler = connection.cursor()\n",
    "#     dbhandler.execute(\"SELECT `w2`, `w3`, `w4`, `w5` FROM `glove` WHERE w1='woode'\")\n",
    "    dbhandler.execute(\"INSERT INTO `glove`(`w1`, `w2`, `w3`, `w4`, `w5`) VALUES ('%s','%s','%s','%s','%s')\"%())\n",
    "    \n",
    "    result = dbhandler.fetchall()\n",
    "    for item in result:\n",
    "        print item\n",
    "\n",
    "except Exception as e:\n",
    "    print e\n",
    "\n",
    "finally:\n",
    "    connection.close()"
   ]
  },
  {
   "cell_type": "code",
   "execution_count": 7,
   "metadata": {},
   "outputs": [
    {
     "name": "stdout",
     "output_type": "stream",
     "text": [
      "INSERT INTO `glove`(`w1`, `w2`, `w3`, `w4`, `w5`) VALUES ('123','234','345','456','567')\n"
     ]
    }
   ],
   "source": [
    "print \"INSERT INTO `glove`(`w1`, `w2`, `w3`, `w4`, `w5`) VALUES ('%s','%s','%s','%s','%s')\"%('123','234','345','456','567')"
   ]
  }
 ],
 "metadata": {
  "kernelspec": {
   "display_name": "Python 2",
   "language": "python",
   "name": "python2"
  }
 },
 "nbformat": 4,
 "nbformat_minor": 2
}
