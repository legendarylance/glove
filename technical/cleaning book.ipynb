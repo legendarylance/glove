{
 "cells": [
  {
   "cell_type": "code",
   "execution_count": 14,
   "metadata": {},
   "outputs": [],
   "source": [
    "import sys\n",
    "import glob\n",
    "import errno\n",
    "path = '*.txt'   \n",
    "files = glob.glob(path)"
   ]
  },
  {
   "cell_type": "code",
   "execution_count": 15,
   "metadata": {},
   "outputs": [],
   "source": [
    "master = ''\n",
    "for i in files:\n",
    "    with open(i, 'r') as content_file:\n",
    "        content = content_file.read()\n",
    "    master = master + content"
   ]
  },
  {
   "cell_type": "code",
   "execution_count": 16,
   "metadata": {},
   "outputs": [],
   "source": [
    "# This piece is gold\n",
    "txt2 = ''.join(s for s in master if ord(s)>64 and ord(s)<91 or ord(s)>96 and ord(s)<123 or ord(s)==10 or ord(s)==32 or ord(s)==45)\n",
    "txt2 = txt2.replace('\\n', ' ')\n",
    "txt2 = txt2.lower()\n",
    "words = txt2.split()\n",
    "txt2 = ' '.join(words)"
   ]
  },
  {
   "cell_type": "code",
   "execution_count": null,
   "metadata": {},
   "outputs": [],
   "source": []
  },
  {
   "cell_type": "code",
   "execution_count": 20,
   "metadata": {},
   "outputs": [
    {
     "data": {
      "text/plain": [
       "'ir co-operation and once again to my students at the university of rome tor vergata for their stimulus and their patience many thanks also to the researchers working at the level of the national project of research measures of epistemic complexity and knowledge construction miur and in particular to maria carla galavotti sergio galvan and roberto festa for their technical support and invaluable friendship finally i would like to express my gratitude to franz wuketits werner leinfellner stephen grossberg henri atlan giuseppe longo johann gotschl and jean petitot i have greatly benefited from discussions with them about some specific guidelines concerning the organization of those particular international colloquia of la nuova critica that constitute the conceptual skeleton of the volume i will always remember the late gaetano kanizsa vittorio somenzi and valerio tonini for their help and their teaching they have been enormously helpful to me in thinking about the issues concerning meani'"
      ]
     },
     "execution_count": 20,
     "metadata": {},
     "output_type": "execute_result"
    }
   ],
   "source": [
    "txt2[3000:4000]"
   ]
  },
  {
   "cell_type": "code",
   "execution_count": 21,
   "metadata": {},
   "outputs": [],
   "source": [
    "file = open(\"cleaned_books\",\"w\")\n",
    "file.write(txt2)\n",
    "file.close()"
   ]
  },
  {
   "cell_type": "code",
   "execution_count": 13,
   "metadata": {},
   "outputs": [
    {
     "data": {
      "text/plain": [
       "122"
      ]
     },
     "execution_count": 13,
     "metadata": {},
     "output_type": "execute_result"
    }
   ],
   "source": []
  },
  {
   "cell_type": "code",
   "execution_count": 114,
   "metadata": {},
   "outputs": [
    {
     "data": {
      "text/plain": [
       "32"
      ]
     },
     "execution_count": 114,
     "metadata": {},
     "output_type": "execute_result"
    }
   ],
   "source": []
  },
  {
   "cell_type": "code",
   "execution_count": 99,
   "metadata": {},
   "outputs": [
    {
     "data": {
      "text/plain": [
       "'al topics from mathematics, psychology and economics, such as game theory, voting and welfare theory, with applications to political science, sociology, law and ethics. for other titles published in this series, go to www.springer.com/series/6616 a. carsetti editor causality, meaningful complexity and embodied cognition 123 editor prof. a. carsetti universit di roma - tor vergata facolt di lettere e filosofia via columbia, 1 00133 roma italy isbn 978-90-481-3528-8 e-isbn 978-90-481-3529-5 doi 10.1007/978-90-481-3529-5 springer dordrecht heidelberg london new york library of congress control number 2010921000 c springer science+business media b.v. 2010 no part of this work may be reproduced, stored in a retrieval system, or transmitted in any form or by any means, electronic, mechanical, photocopying, microfilming, recording or otherwise, without written permission from the publisher, with the exception of any material supplied specifically for the purpose of being entered and executed on a computer system, for exclusive use by the purchaser of the work. cover design boekhorst design b.v. printed on acid-free paper springer is part of springer science+business media www.springer.com acknowledgements this book too like others i have edited, owes its existence to many sources. first of all i would like to express my deep appreciation to julian nida rumelin. he encouraged me to edit this book and i have benefited from some discussions with him on the occasion of the international colloquium on causality, meaningful complexity and knowledge construction rome, 2008. i am very grateful to charles erkelens who examined and approved the first project of the book. i am also grateful to elisabeth leinfellner for her invaluable help in introducing me in the art of shepherd the different chapters in a volume. i am indebted to my collaborators andrea cataldi, piat lam and enrica vizzinisi for their help at the editorial level. i would like, in particular, to thank lucy fleet of springer for her editorial comments and suggestions which contributed to the quality of the presentation of the book. my deep thanks to the authors for their co-operation and, once again, to my students at the university of rome tor vergata for their stimulus and their patience. many thanks also to the researchers working at the level of the national project of research measures of epistemic complexity and knowledge construction miur, 2006 and, in particular, to maria carla galavotti, sergio galvan and roberto festa, for their technical support and invaluable friendship. finally, i would like to express my gratitude to franz wuketits, werner leinfellner, stephen grossberg, henri atlan, giuseppe longo, johann gotschl and jean petitot i have greatly benefited from discussions with them about some specific guidelines concerning the organization of those particular international colloquia of la nuova critica that constitute the conceptual skeleton of the volume. i will always remember the late gaetano kanizsa, vittorio somenzi and valerio tonini for their help and their teaching. they have been enormously helpful to me in thinking about the issues concerning meaningful complexity and embodied cognition. v introduction arturo carsetti according to molecular biology, true invariance life can exist only within the framework of ongoing autonomous morphogenesis and vice versa. with respect to this secret dialectics, life and cognition appear as indissolubly interlinked. in this sense, for instance, the inner articulation of conceptual spaces appears to be linked to an inner functional development based on a continuous activity of selection and anchorage realised on semantic grounds. it is the work of invention and generation in invariance, linked with the rooting of meaning, which determines the evolution, the leaps and punctuated equilibria, the conditions related to the unfolding of new modalities of invariance, an invariance which is never simple repetition and which sprin'"
      ]
     },
     "execution_count": 99,
     "metadata": {},
     "output_type": "execute_result"
    }
   ],
   "source": []
  },
  {
   "cell_type": "code",
   "execution_count": 53,
   "metadata": {},
   "outputs": [],
   "source": [
    "# decode to uft 8\n",
    "master = []\n",
    "for i in words:\n",
    "    master.append(unicode(i, \"utf-8\" ))"
   ]
  },
  {
   "cell_type": "code",
   "execution_count": 56,
   "metadata": {},
   "outputs": [],
   "source": [
    "txt = ' '.join(master)"
   ]
  },
  {
   "cell_type": "code",
   "execution_count": 57,
   "metadata": {},
   "outputs": [
    {
     "data": {
      "text/plain": [
       "u'ausality, Meaningful Complexity and Embodied Cognition THEORY AND DECISION LIBRARY General Editor: Julian Nida-R\\xfcmelin (Universita\\u0308t Mu\\u0308nchen) Series A: Philosophy and Methodology of the Social Sciences Series B: Mathematical and Statistical Methods Series C: Game Theory, Mathematical Programming and Operations Research SERIES A: PHILOSOPHY AND METHODOLOGY OF THE SOCIAL SCIENCES VOLUME 46 Assistant Editor: Martin Rechenauer (Universita\\u0308t Mu\\u0308nchen) Editorial Board: Raymond Boudon (Paris), Mario Bunge (Montr\\xe9al ), Isaac Levi (New York), Richard V. Mattessich (Vancouver), Bertrand Munier (Cachan), Amartya K. Sen (Cambridge), Brian Skyrms (Irvine), Wolfgang Spohn (Konstanz) Scope: This series deals with the foundations, the general methodology and the criteria, goals and purpose of the social sciences. The emphasis in the Series A will be on well-argued, thoroughly analytical rather than advanced mathematical treatments. In this context, particular attention will be paid to game and decis'"
      ]
     },
     "execution_count": 57,
     "metadata": {},
     "output_type": "execute_result"
    }
   ],
   "source": [
    "txt[1:1000]"
   ]
  },
  {
   "cell_type": "code",
   "execution_count": 49,
   "metadata": {},
   "outputs": [],
   "source": []
  },
  {
   "cell_type": "code",
   "execution_count": 60,
   "metadata": {},
   "outputs": [],
   "source": [
    "import re\n",
    "txt2 = re.sub('[^a-zA-Z]+ ', '', txt)"
   ]
  },
  {
   "cell_type": "code",
   "execution_count": 62,
   "metadata": {},
   "outputs": [
    {
     "data": {
      "text/plain": [
       "u'CausalityMeaningful Complexity and Embodied Cognition THEORY AND DECISION LIBRARY General EditorJulian Nida-R\\xfcmelin (Universita\\u0308t Mu\\u0308nchenSeries APhilosophy and Methodology of the Social Sciences Series BMathematical and Statistical Methods Series CGame TheoryMathematical Programming and Operations Research SERIES APHILOSOPHY AND METHODOLOGY OF THE SOCIAL SCIENCES VOLUMEAssistant EditorMartin Rechenauer (Universita\\u0308t Mu\\u0308nchenEditorial BoardRaymond Boudon (ParisMario Bunge (Montr\\xe9alIsaac Levi (New YorkRichard VMattessich (VancouverBertrand Munier (CachanAmartya KSen (CambridgeBrian Skyrms (IrvineWolfgang Spohn (KonstanzScopeThis series deals with the foundationsthe general methodology and the criteriagoals and purpose of the social sciencesThe emphasis in the Series A will be on well-arguedthoroughly analytical rather than advanced mathematical treatmentsIn this contextparticular attention will be paid to game and decision theory and general philosophical topics from mathematicspsycholo'"
      ]
     },
     "execution_count": 62,
     "metadata": {},
     "output_type": "execute_result"
    }
   ],
   "source": [
    "txt2[0:1000]"
   ]
  },
  {
   "cell_type": "code",
   "execution_count": 64,
   "metadata": {},
   "outputs": [
    {
     "data": {
      "text/plain": [
       "[u'Causality,', u'Meaningful', u'Complexity', u'and', u'Embodied']"
      ]
     },
     "execution_count": 64,
     "metadata": {},
     "output_type": "execute_result"
    }
   ],
   "source": [
    "master[0:5]"
   ]
  },
  {
   "cell_type": "code",
   "execution_count": 10,
   "metadata": {},
   "outputs": [],
   "source": [
    "invalidChars = '0123456789\\\\/@#:.'\n",
    "new_words = []\n",
    "for i in words:\n",
    "    if any(char in invalidChars for char in i):\n",
    "        pass\n",
    "    else:\n",
    "        new_words.append(i)"
   ]
  },
  {
   "cell_type": "code",
   "execution_count": 14,
   "metadata": {},
   "outputs": [],
   "source": [
    "new_invalid = '\\\\/:.'\n",
    "new_words2 = []\n",
    "for i in new_words:\n",
    "    if any(char in new_invalid for char in i):\n",
    "        pass\n",
    "    else:\n",
    "        new_words2.append(i)"
   ]
  },
  {
   "cell_type": "code",
   "execution_count": 15,
   "metadata": {},
   "outputs": [
    {
     "name": "stdout",
     "output_type": "stream",
     "text": [
      "14942017\n",
      "13820089\n",
      "12549190\n"
     ]
    }
   ],
   "source": [
    "for i in new_words2:\n",
    "    if any(char in new_invalid for char in i):\n",
    "        pass\n",
    "    else:\n",
    "        new_words2.append(i)"
   ]
  },
  {
   "cell_type": "code",
   "execution_count": 17,
   "metadata": {},
   "outputs": [],
   "source": [
    "new_words3 = []\n",
    "for i in new_words2:\n",
    "    if any(char is '\\\\' for char in i):\n",
    "        pass\n",
    "    else:\n",
    "        new_words3.append(i)"
   ]
  },
  {
   "cell_type": "code",
   "execution_count": 33,
   "metadata": {},
   "outputs": [],
   "source": [
    "import sys\n",
    "reload(sys)\n",
    "sys.setdefaultencoding('UTF8')"
   ]
  },
  {
   "cell_type": "code",
   "execution_count": 37,
   "metadata": {},
   "outputs": [],
   "source": [
    "print 'hello'"
   ]
  },
  {
   "cell_type": "code",
   "execution_count": 36,
   "metadata": {},
   "outputs": [],
   "source": [
    "# any(char is '\\\\' for char in a)\n",
    "print new_words3[12]\n",
    "# for i in a:\n",
    "#     print i"
   ]
  }
 ],
 "metadata": {
  "kernelspec": {
   "display_name": "Python 2",
   "language": "python",
   "name": "python2"
  },
  "language_info": {
   "codemirror_mode": {
    "name": "ipython",
    "version": 2
   },
   "file_extension": ".py",
   "mimetype": "text/x-python",
   "name": "python",
   "nbconvert_exporter": "python",
   "pygments_lexer": "ipython2",
   "version": "2.7.14"
  }
 },
 "nbformat": 4,
 "nbformat_minor": 2
}
