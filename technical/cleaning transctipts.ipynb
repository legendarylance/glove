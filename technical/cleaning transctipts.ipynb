{
 "cells": [
  {
   "cell_type": "code",
   "execution_count": 1,
   "metadata": {},
   "outputs": [],
   "source": [
    "import sys\n",
    "import glob\n",
    "import errno\n",
    "path = '*.srt'   \n",
    "files = glob.glob(path)\n",
    "# print files"
   ]
  },
  {
   "cell_type": "code",
   "execution_count": 2,
   "metadata": {},
   "outputs": [],
   "source": [
    "master = ''\n",
    "for i in files:\n",
    "    with open(i, 'r') as content_file:\n",
    "        content = content_file.read()\n",
    "    master = master + content"
   ]
  },
  {
   "cell_type": "code",
   "execution_count": 3,
   "metadata": {},
   "outputs": [],
   "source": [
    "# This piece is gold\n",
    "txt2 = ''.join(s for s in master if ord(s)>64 and ord(s)<91 or ord(s)>96 and ord(s)<123 or ord(s)==10 or ord(s)==32 or ord(s)==45)\n",
    "\n",
    "txt2 = txt2.replace('\\n', ' ')\n",
    "txt2 = txt2.lower()\n",
    "words = txt2.split()\n",
    "txt2 = ' '.join(words)"
   ]
  },
  {
   "cell_type": "code",
   "execution_count": null,
   "metadata": {},
   "outputs": [],
   "source": []
  },
  {
   "cell_type": "code",
   "execution_count": 5,
   "metadata": {},
   "outputs": [],
   "source": [
    "file = open(\"cleaned_transctipts\",\"w\")\n",
    "file.write(txt2)\n",
    "file.close()"
   ]
  }
 ],
 "metadata": {
  "kernelspec": {
   "display_name": "Python 2",
   "language": "python",
   "name": "python2"
  },
  "language_info": {
   "codemirror_mode": {
    "name": "ipython",
    "version": 2
   },
   "file_extension": ".py",
   "mimetype": "text/x-python",
   "name": "python",
   "nbconvert_exporter": "python",
   "pygments_lexer": "ipython2",
   "version": "2.7.14"
  }
 },
 "nbformat": 4,
 "nbformat_minor": 2
}
